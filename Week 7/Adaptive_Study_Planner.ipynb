{
  "nbformat": 4,
  "nbformat_minor": 0,
  "metadata": {
    "colab": {
      "provenance": []
    },
    "kernelspec": {
      "name": "python3",
      "display_name": "Python 3"
    },
    "language_info": {
      "name": "python"
    }
  },
  "cells": [
    {
      "cell_type": "code",
      "execution_count": null,
      "metadata": {
        "id": "qWOXzHujnOfS"
      },
      "outputs": [],
      "source": [
        "def update_study_schedule(progress, subject):\n",
        "    # progress: a dictionary containing subjects and percentage completed\n",
        "    if progress[subject] < 50:\n",
        "        # If progress is less than 50%, increase study time for that subject\n",
        "        return \"Increase study time for {}.\".format(subject)\n",
        "    elif 50 <= progress[subject] < 80:\n",
        "        # If progress is moderate, maintain the current schedule\n",
        "        return \"Maintain current study schedule for {}.\".format(subject)\n",
        "    else:\n",
        "        # If progress is above 80%, suggest reviewing other subjects\n",
        "        return \"Reduce study time for {} and focus on other subjects.\".format(subject)\n",
        "\n",
        "# Example Usage:\n",
        "progress = {'Math': 40, 'Science': 70, 'History': 85}\n",
        "subject = 'Math'\n",
        "print(update_study_schedule(progress, subject))\n"
      ]
    },
    {
      "cell_type": "code",
      "source": [
        "import numpy as np\n",
        "import pandas as pd\n",
        "from sklearn.linear_model import LinearRegression\n",
        "from sklearn.model_selection import train_test_split\n",
        "\n",
        "# Sample data: Study Time (X) and Completion Percentage (y)\n",
        "data = {\n",
        "    'Study_Time': [2, 3, 1, 4, 2.5],\n",
        "    'Completion_Percentage': [60, 75, 50, 85, 70]\n",
        "}\n",
        "\n",
        "# Convert data to DataFrame\n",
        "df = pd.DataFrame(data)\n",
        "\n",
        "# Separate features (X) and target (y)\n",
        "X = df[['Study_Time']]  # Study time as the feature\n",
        "y = df['Completion_Percentage']  # Completion percentage as the target\n",
        "\n",
        "# Split data into training and testing sets (80% training, 20% testing)\n",
        "X_train, X_test, y_train, y_test = train_test_split(X, y, test_size=0.2, random_state=42)\n",
        "\n",
        "# Create a Linear Regression model\n",
        "model = LinearRegression()\n",
        "\n",
        "# Train the model\n",
        "model.fit(X_train, y_train)\n",
        "\n",
        "# Predict completion percentage for new study times\n",
        "new_study_times = np.array([[2], [3], [1.5]])  # Example of new study times\n",
        "predictions = model.predict(new_study_times)\n",
        "\n",
        "# Display predictions\n",
        "for i, time in enumerate(new_study_times):\n",
        "    print(f\"Predicted completion for {time[0]} hours of study: {predictions[i]:.2f}%\")\n"
      ],
      "metadata": {
        "colab": {
          "base_uri": "https://localhost:8080/"
        },
        "id": "xHyj3yV9nR0G",
        "outputId": "1462535f-f061-4a66-9335-189a4e2c92f4"
      },
      "execution_count": 1,
      "outputs": [
        {
          "output_type": "stream",
          "name": "stdout",
          "text": [
            "Predicted completion for 2.0 hours of study: 61.80%\n",
            "Predicted completion for 3.0 hours of study: 73.67%\n",
            "Predicted completion for 1.5 hours of study: 55.87%\n"
          ]
        },
        {
          "output_type": "stream",
          "name": "stderr",
          "text": [
            "/usr/local/lib/python3.10/dist-packages/sklearn/base.py:493: UserWarning: X does not have valid feature names, but LinearRegression was fitted with feature names\n",
            "  warnings.warn(\n"
          ]
        }
      ]
    },
    {
      "cell_type": "code",
      "source": [
        "def recommend_study_time(model, target_completion):\n",
        "    # Find the study time that corresponds to the target completion\n",
        "    current_time = np.array([[1], [2], [3], [4], [5]])  # Check predictions for different study times\n",
        "    predicted_completion = model.predict(current_time)\n",
        "\n",
        "    # Loop to find the minimum study time that meets the target completion\n",
        "    for i, completion in enumerate(predicted_completion):\n",
        "        if completion >= target_completion:\n",
        "            return current_time[i][0]\n",
        "\n",
        "    # If no time meets the target, recommend a longer study session\n",
        "    return current_time[-1][0]  # Return the longest available time\n",
        "\n",
        "# Example: User wants to achieve 80% completion\n",
        "recommended_time = recommend_study_time(model, target_completion=80)\n",
        "print(f\"Recommended study time to achieve 80%: {recommended_time} hours\")\n"
      ],
      "metadata": {
        "colab": {
          "base_uri": "https://localhost:8080/"
        },
        "id": "3_NGeAdDnWTa",
        "outputId": "62f770ac-0cc1-4505-f4cf-ba37e29be501"
      },
      "execution_count": 2,
      "outputs": [
        {
          "output_type": "stream",
          "name": "stdout",
          "text": [
            "Recommended study time to achieve 80%: 4 hours\n"
          ]
        },
        {
          "output_type": "stream",
          "name": "stderr",
          "text": [
            "/usr/local/lib/python3.10/dist-packages/sklearn/base.py:493: UserWarning: X does not have valid feature names, but LinearRegression was fitted with feature names\n",
            "  warnings.warn(\n"
          ]
        }
      ]
    },
    {
      "cell_type": "code",
      "source": [],
      "metadata": {
        "id": "B8uu53zRnhR6"
      },
      "execution_count": null,
      "outputs": []
    }
  ]
}